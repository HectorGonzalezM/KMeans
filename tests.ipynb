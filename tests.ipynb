{
 "cells": [
  {
   "cell_type": "markdown",
   "metadata": {},
   "source": [
    "## Pure Python"
   ]
  },
  {
   "cell_type": "code",
   "execution_count": 1,
   "metadata": {},
   "outputs": [],
   "source": [
    "from pure_python import k_means"
   ]
  },
  {
   "cell_type": "markdown",
   "metadata": {},
   "source": [
    "## Small Data Size"
   ]
  },
  {
   "cell_type": "code",
   "execution_count": 3,
   "metadata": {},
   "outputs": [
    {
     "name": "stdout",
     "output_type": "stream",
     "text": [
      "99.5 ms ± 593 µs per loop (mean ± std. dev. of 3 runs, 10 loops each)\n"
     ]
    }
   ],
   "source": [
    "import random\n",
    "data_size = 1000  # Small data size\n",
    "dims = 2  # Data dimensions\n",
    "k = 10  # Number of centroids/clusters\n",
    "data = [[random.random() for _ in range(dims)] for _ in range(data_size)]\n",
    "max_iterations = 100\n",
    "%timeit -r 3 -n 10 k_means(data, k, max_iterations)"
   ]
  },
  {
   "cell_type": "markdown",
   "metadata": {},
   "source": [
    "## Medium Data Size"
   ]
  },
  {
   "cell_type": "code",
   "execution_count": 5,
   "metadata": {},
   "outputs": [
    {
     "name": "stdout",
     "output_type": "stream",
     "text": [
      "1.79 s ± 196 ms per loop (mean ± std. dev. of 3 runs, 10 loops each)\n"
     ]
    }
   ],
   "source": [
    "import random\n",
    "data_size = 10000  # Medium data size\n",
    "dims = 2  # Data dimensions\n",
    "k = 10  # Number of centroids/clusters\n",
    "data = [[random.random() for _ in range(dims)] for _ in range(data_size)]\n",
    "max_iterations = 100\n",
    "%timeit -r 3 -n 10 k_means(data, k, max_iterations)"
   ]
  },
  {
   "cell_type": "markdown",
   "metadata": {},
   "source": [
    "## Large Data Size"
   ]
  },
  {
   "cell_type": "code",
   "execution_count": 9,
   "metadata": {},
   "outputs": [
    {
     "name": "stdout",
     "output_type": "stream",
     "text": [
      "24.1 s ± 1.38 s per loop (mean ± std. dev. of 3 runs, 10 loops each)\n"
     ]
    }
   ],
   "source": [
    "import random\n",
    "data_size = 100000  # Large data size\n",
    "dims = 2  # Data dimensions\n",
    "k = 10  # Number of centroids/clusters\n",
    "data = [[random.random() for _ in range(dims)] for _ in range(data_size)]\n",
    "max_iterations = 100\n",
    "%timeit -r 3 -n 10 k_means(data, k, max_iterations)"
   ]
  },
  {
   "cell_type": "markdown",
   "metadata": {},
   "source": [
    "## Numpy Version"
   ]
  },
  {
   "cell_type": "code",
   "execution_count": 10,
   "metadata": {},
   "outputs": [],
   "source": [
    "from numpy_python import k_means_np"
   ]
  },
  {
   "cell_type": "markdown",
   "metadata": {},
   "source": [
    "## Small Data Size"
   ]
  },
  {
   "cell_type": "code",
   "execution_count": 11,
   "metadata": {},
   "outputs": [
    {
     "name": "stdout",
     "output_type": "stream",
     "text": [
      "11.2 ms ± 918 µs per loop (mean ± std. dev. of 3 runs, 10 loops each)\n"
     ]
    }
   ],
   "source": [
    "import numpy as np\n",
    "data_size = 1000  # Small data size\n",
    "dims = 2  # Data dimensions\n",
    "k = 10  # Number of centroids/clusters\n",
    "data = np.random.rand(data_size, dims)\n",
    "max_iterations = 100\n",
    "%timeit -r 3 -n 10 k_means_np(data, k, max_iterations)"
   ]
  },
  {
   "cell_type": "markdown",
   "metadata": {},
   "source": [
    "## Medium Data Size"
   ]
  },
  {
   "cell_type": "code",
   "execution_count": 12,
   "metadata": {},
   "outputs": [
    {
     "name": "stdout",
     "output_type": "stream",
     "text": [
      "92.7 ms ± 2.15 ms per loop (mean ± std. dev. of 3 runs, 10 loops each)\n"
     ]
    }
   ],
   "source": [
    "import numpy as np\n",
    "data_size = 10000  # Medium data size\n",
    "dims = 2  # Data dimensions\n",
    "k = 10  # Number of centroids/clusters\n",
    "data = np.random.rand(data_size, dims)\n",
    "max_iterations = 100\n",
    "%timeit -r 3 -n 10 k_means_np(data, k, max_iterations)"
   ]
  },
  {
   "cell_type": "markdown",
   "metadata": {},
   "source": [
    "## Large Data Size"
   ]
  },
  {
   "cell_type": "code",
   "execution_count": 13,
   "metadata": {},
   "outputs": [
    {
     "name": "stdout",
     "output_type": "stream",
     "text": [
      "1.37 s ± 51.8 ms per loop (mean ± std. dev. of 3 runs, 10 loops each)\n"
     ]
    }
   ],
   "source": [
    "import numpy as np\n",
    "data_size = 100000  # Large data size\n",
    "dims = 2  # Data dimensions\n",
    "k = 10  # Number of centroids/clusters\n",
    "data = np.random.rand(data_size, dims)\n",
    "max_iterations = 100\n",
    "%timeit -r 3 -n 10 k_means_np(data, k, max_iterations)"
   ]
  },
  {
   "cell_type": "markdown",
   "metadata": {},
   "source": [
    "## Cython Version"
   ]
  },
  {
   "cell_type": "code",
   "execution_count": 14,
   "metadata": {},
   "outputs": [],
   "source": [
    "from kmeans_cy import k_means_cy"
   ]
  },
  {
   "cell_type": "markdown",
   "metadata": {},
   "source": [
    "## Small Data Size"
   ]
  },
  {
   "cell_type": "code",
   "execution_count": 15,
   "metadata": {},
   "outputs": [
    {
     "name": "stdout",
     "output_type": "stream",
     "text": [
      "1.81 ms ± 197 µs per loop (mean ± std. dev. of 3 runs, 10 loops each)\n"
     ]
    }
   ],
   "source": [
    "import numpy as np\n",
    "data_size = 1000  # Small data size\n",
    "dims = 2  # Data dimensions\n",
    "k = 10  # Number of centroids/clusters\n",
    "data = np.random.rand(data_size, dims)\n",
    "max_iterations = 100\n",
    "%timeit -r 3 -n 10 k_means_cy(data, k, max_iterations)"
   ]
  },
  {
   "cell_type": "markdown",
   "metadata": {},
   "source": [
    "## Medium Data Size"
   ]
  },
  {
   "cell_type": "code",
   "execution_count": 16,
   "metadata": {},
   "outputs": [
    {
     "name": "stdout",
     "output_type": "stream",
     "text": [
      "25 ms ± 707 µs per loop (mean ± std. dev. of 3 runs, 10 loops each)\n"
     ]
    }
   ],
   "source": [
    "import numpy as np\n",
    "data_size = 10000  # Medium data size\n",
    "dims = 2  # Data dimensions\n",
    "k = 10  # Number of centroids/clusters\n",
    "data = np.random.rand(data_size, dims)\n",
    "max_iterations = 100\n",
    "%timeit -r 3 -n 10 k_means_cy(data, k, max_iterations)"
   ]
  },
  {
   "cell_type": "markdown",
   "metadata": {},
   "source": [
    "## Large Data Size"
   ]
  },
  {
   "cell_type": "code",
   "execution_count": 17,
   "metadata": {},
   "outputs": [
    {
     "name": "stdout",
     "output_type": "stream",
     "text": [
      "312 ms ± 15.1 ms per loop (mean ± std. dev. of 3 runs, 10 loops each)\n"
     ]
    }
   ],
   "source": [
    "import numpy as np\n",
    "data_size = 100000  # Large data size\n",
    "dims = 2  # Data dimensions\n",
    "k = 10  # Number of centroids/clusters\n",
    "data = np.random.rand(data_size, dims)\n",
    "max_iterations = 100\n",
    "%timeit -r 3 -n 10 k_means_cy(data, k, max_iterations)"
   ]
  }
 ],
 "metadata": {
  "kernelspec": {
   "display_name": "Python 3",
   "language": "python",
   "name": "python3"
  },
  "language_info": {
   "codemirror_mode": {
    "name": "ipython",
    "version": 3
   },
   "file_extension": ".py",
   "mimetype": "text/x-python",
   "name": "python",
   "nbconvert_exporter": "python",
   "pygments_lexer": "ipython3",
   "version": "3.10.12"
  }
 },
 "nbformat": 4,
 "nbformat_minor": 2
}
